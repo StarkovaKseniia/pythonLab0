{
 "cells": [
  {
   "cell_type": "code",
   "execution_count": 1,
   "id": "253e626e",
   "metadata": {
    "scrolled": true
   },
   "outputs": [
    {
     "name": "stdout",
     "output_type": "stream",
     "text": [
      "6\n"
     ]
    }
   ],
   "source": [
    "N = ord(\"K\") % 10 + 1\n",
    "print(N)"
   ]
  },
  {
   "cell_type": "markdown",
   "id": "9140224e",
   "metadata": {},
   "source": [
    "- Встановити Jupyter notebook [1, 2, 3].\n",
    "- Налаштувати робочу папку\n",
    "\n",
    "<h2>Завдання 3</h2>\n",
    "<p>\n",
    "За допомогою мови Markdown та HTML тегів для країни, відповідно до свого номеру варіанту (Йорданія), ввести інформацію щодо <u>площини</u>, <u>населення</u>, <u>державного устрою</u>, видатних персоналій, пам’яток культури та природи тощо. При оформленні інформації повинні бути використані:</p>\n",
    "\n",
    "- [x] заголовки різних рівнів;\n",
    "- [x] різні види накреслення символів (курсив, напівжирний тощо);\n",
    "- [x] символи різних кольорів;\n",
    "- [x] рамки навколо тексту;\n",
    "- [x] таблиці;\n",
    "- [x] вкладені списки;\n",
    "- [x] картинки за допомогою посилань та вбудовані;\n",
    "- [x] гіперпосилання;\n",
    "- [ ] за допомогою HTML тегу <svg> намалювати флаг країни."
   ]
  },
  {
   "cell_type": "markdown",
   "id": "777cacfd",
   "metadata": {},
   "source": [
    "<svg xmlns=\"http://www.w3.org/2000/svg\" xmlns:xlink=\"http://www.w3.org/1999/xlink\" width=\"40\" zoomAndPan=\"magnify\" viewBox=\"0 0 30 30.000001\" height=\"40\" preserveAspectRatio=\"xMidYMid meet\" version=\"1.0\"><defs><clipPath id=\"id1\"><path d=\"M 2.761719 5.683594 L 27.441406 5.683594 L 27.441406 12 L 2.761719 12 Z M 2.761719 5.683594 \" clip-rule=\"nonzero\"/></clipPath><clipPath id=\"id2\"><path d=\"M 2.761719 17 L 27.441406 17 L 27.441406 23.101562 L 2.761719 23.101562 Z M 2.761719 17 \" clip-rule=\"nonzero\"/></clipPath><clipPath id=\"id3\"><path d=\"M 2.761719 11 L 27.441406 11 L 27.441406 18 L 2.761719 18 Z M 2.761719 11 \" clip-rule=\"nonzero\"/></clipPath><clipPath id=\"id4\"><path d=\"M 2.761719 6 L 15 6 L 15 23 L 2.761719 23 Z M 2.761719 6 \" clip-rule=\"nonzero\"/></clipPath></defs><g clip-path=\"url(#id1)\"><path fill=\"rgb(7.839966%, 7.839966%, 7.839966%)\" d=\"M 24.6875 5.683594 L 5.515625 5.683594 C 4 5.683594 2.773438 6.882812 2.773438 8.363281 L 2.773438 11.378906 L 27.425781 11.378906 L 27.425781 8.363281 C 27.425781 6.882812 26.199219 5.683594 24.6875 5.683594 Z M 24.6875 5.683594 \" fill-opacity=\"1\" fill-rule=\"nonzero\"/></g><g clip-path=\"url(#id2)\"><path fill=\"rgb(0%, 47.839355%, 23.919678%)\" d=\"M 2.773438 20.421875 C 2.773438 21.902344 4 23.101562 5.515625 23.101562 L 24.6875 23.101562 C 26.199219 23.101562 27.425781 21.902344 27.425781 20.421875 L 27.425781 17.40625 L 2.773438 17.40625 Z M 2.773438 20.421875 \" fill-opacity=\"1\" fill-rule=\"nonzero\"/></g><g clip-path=\"url(#id3)\"><path fill=\"rgb(93.328857%, 93.328857%, 93.328857%)\" d=\"M 2.773438 11.378906 L 27.425781 11.378906 L 27.425781 17.40625 L 2.773438 17.40625 Z M 2.773438 11.378906 \" fill-opacity=\"1\" fill-rule=\"nonzero\"/></g><g clip-path=\"url(#id4)\"><path fill=\"rgb(80.778503%, 6.669617%, 14.898682%)\" d=\"M 3.699219 6.355469 C 3.132812 6.847656 2.773438 7.5625 2.773438 8.363281 L 2.773438 20.421875 C 2.773438 21.222656 3.132812 21.9375 3.699219 22.429688 L 14.757812 14.390625 Z M 3.699219 6.355469 \" fill-opacity=\"1\" fill-rule=\"nonzero\"/></g><path fill=\"rgb(100%, 100%, 100%)\" d=\"M 7.3125 15.289062 L 8.035156 15.941406 L 7.964844 14.980469 L 8.9375 14.835938 L 8.125 14.292969 L 8.617188 13.457031 L 7.675781 13.738281 L 7.3125 12.84375 L 6.953125 13.738281 L 6.007812 13.457031 L 6.5 14.292969 L 5.6875 14.835938 L 6.660156 14.980469 L 6.589844 15.941406 Z M 7.3125 15.289062 \" fill-opacity=\"1\" fill-rule=\"nonzero\"/></svg>\n",
    "\n",
    "![Alt text](jordan-flag.svg) \n",
    "\n",
    "<a id=\"link\"><a/>\n",
    "   \n",
    "# <b><u>Jordan</u></b>\n",
    "> $${\\color{red}God, \\color{lightgray}Country, \\color{green}King}$$\n",
    "\n",
    "![alt][image1]\n",
    "### *Area*    \n",
    "| Total | 89,342 km^2 |\n",
    "| ---   |         --- |\n",
    "| Water (%) | 0.6     |\n",
    "\n",
    "![alt][image2]\n",
    "\n",
    "\n",
    "### *Government*\n",
    "* Unitary parliamentary constitutional monarchy\n",
    "\t+ Monarch\n",
    "        - Abdullah II\n",
    "\t+ Prime Minister\n",
    "\t    - Bisher Khasawneh\n",
    "        \n",
    "------------\n",
    "### *Population*\n",
    "\n",
    "2023 estimate - 11,180,568\n",
    "\n",
    "------------\n",
    "    \n",
    "### *Culture*\n",
    "    \n",
    "<div style=\"border:2px solid Tomato;\">\n",
    "    \n",
    "#### **Art and museums**\n",
    "    \n",
    "Many institutions in Jordan aim to increase cultural awareness of Jordanian Art and to represent Jordan's artistic movements in fields such as paintings, sculpture, graffiti and photography. The art scene has been developing in the past few years and Jordan has been a haven for artists from surrounding countries. In January 2016, for the first time ever, a Jordanian film called Theeb was nominated for the Academy Awards for Best Foreign Language Film.\n",
    "\n",
    "The largest museum in Jordan is The Jordan Museum. It contains much of the valuable archaeological findings in the country, including some of the Dead Sea Scrolls, the Neolithic limestone statues of 'Ain Ghazal and a copy of the Mesha Stele. Most museums in Jordan are located in Amman including The Children's Museum Jordan, The Martyr's Memorial and Museum and the Royal Automobile Museum. Museums outside Amman include the Aqaba Archaeological Museum. The Jordan National Gallery of Fine Arts is a major contemporary art museum located in Amman.\n",
    "\n",
    "Music in Jordan is now developing with a lot of new bands and artists, who are now popular in the Middle East. Artists such as Omar Al-Abdallat, Toni Qattan, Diana Karazon and Hani Mitwasi have increased the popularity of Jordanian music. The Jerash Festival is an annual music event that features popular Arab singers. Pianist and composer Zade Dirani has gained wide international popularity. There is also an increasing growth of alternative Arabic rock bands, who are dominating the scene in the Arab World, including: El Morabba3, Autostrad, JadaL, Akher Zapheer and Aziz Maraka.\n",
    "\n",
    "Jordan unveiled its first underwater military museum off the coast of Aqaba. Several military vehicles, including tanks, troop carriers and a helicopter are in the museum.\n",
    "    \n",
    "</div>\n",
    "    \n",
    "<a href=\"https://en.wikipedia.org/wiki/Jordan\" target=\"_blank\" title=\"Sources\">Sources</a>    \n",
    "<a href=\"#link\" title=\"page up\">Page up</a> \n",
    "\n",
    "[image1]: https://jordantraveler.com/wp-content/uploads/2021/12/6-Days-in-Jordan-Hero.jpeg  (Jordan Hero) \n",
    "[image2]: jordan-map.jpg (Jordan Map)"
   ]
  },
  {
   "cell_type": "markdown",
   "id": "2dae613c",
   "metadata": {},
   "source": [
    "<h2>Завдання 4</h2>\n",
    "<p>Створити функцію (Ввести 2 числа a i b. Знайти всі прості числа на відрізку [a,b].) для реалізації алгоритму, відповідно до номеру свого варіанту з табл. 1. Для створеної функції реалізувати 2-3 тестові приклади в комірках ноутбуку. Для всіх варіантів організувати контроль значень. Приклади:\n",
    "In [2] task_6()\n",
    "3 15\n",
    "Out [2] [3, 5, 7, 11, 13]\n",
    "In [3] task_6()\n",
    "6 24\n",
    "Out [3] [7, 11, 13, 17, 19, 23] </p>"
   ]
  },
  {
   "cell_type": "code",
   "execution_count": 27,
   "id": "8553398d",
   "metadata": {
    "scrolled": true
   },
   "outputs": [
    {
     "name": "stdout",
     "output_type": "stream",
     "text": [
      "Enter lowest number:6\n",
      "Enter upper number:24\n",
      "Prime numbers between 6 and 24 are: \n",
      "7\n",
      "11\n",
      "13\n",
      "17\n",
      "19\n",
      "23\n"
     ]
    }
   ],
   "source": [
    "def my_function():\n",
    "    number1 = input(\"Enter lowest number:\")\n",
    "    number2 = input(\"Enter upper number:\")\n",
    "    num1 = int(number1)\n",
    "    num2 = int(number2)\n",
    "    print(\"Prime numbers between\", num1, \"and\", num2, \"are: \")\n",
    "    for num in range(num1, num2 + 1):\n",
    "        if num > 1:\n",
    "            for i in range(2, num):\n",
    "                if (num % i) == 0:\n",
    "                    break\n",
    "            else:\n",
    "                print(num)\n",
    "    \n",
    "my_function()"
   ]
  },
  {
   "cell_type": "code",
   "execution_count": 28,
   "id": "18f32cab",
   "metadata": {},
   "outputs": [
    {
     "name": "stdout",
     "output_type": "stream",
     "text": [
      "Enter lowest number:3\n",
      "Enter upper number:15\n",
      "Prime numbers between 3 and 15 are: \n",
      "3\n",
      "5\n",
      "7\n",
      "11\n",
      "13\n"
     ]
    }
   ],
   "source": [
    "def my_function():\n",
    "    number1 = input(\"Enter lowest number:\")\n",
    "    number2 = input(\"Enter upper number:\")\n",
    "    num1 = int(number1)\n",
    "    num2 = int(number2)\n",
    "    print(\"Prime numbers between\", num1, \"and\", num2, \"are: \")\n",
    "    for num in range(num1, num2 + 1):\n",
    "        if num > 1:\n",
    "            for i in range(2, num):\n",
    "                if (num % i) == 0:\n",
    "                    break\n",
    "            else:\n",
    "                print(num)\n",
    "    \n",
    "my_function()"
   ]
  },
  {
   "cell_type": "code",
   "execution_count": null,
   "id": "39729b02",
   "metadata": {},
   "outputs": [],
   "source": []
  }
 ],
 "metadata": {
  "kernelspec": {
   "display_name": "Python 3 (ipykernel)",
   "language": "python",
   "name": "python3"
  },
  "language_info": {
   "codemirror_mode": {
    "name": "ipython",
    "version": 3
   },
   "file_extension": ".py",
   "mimetype": "text/x-python",
   "name": "python",
   "nbconvert_exporter": "python",
   "pygments_lexer": "ipython3",
   "version": "3.11.5"
  }
 },
 "nbformat": 4,
 "nbformat_minor": 5
}
